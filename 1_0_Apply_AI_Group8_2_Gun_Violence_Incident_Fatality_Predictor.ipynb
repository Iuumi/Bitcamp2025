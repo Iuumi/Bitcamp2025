{
  "cells": [
    {
      "cell_type": "markdown",
      "metadata": {
        "id": "view-in-github",
        "colab_type": "text"
      },
      "source": [
        "<a href=\"https://colab.research.google.com/github/Iuumi/tasktracker.github.io/blob/master/1_0_Apply_AI_Group8_2_Gun_Violence_Incident_Fatality_Predictor.ipynb\" target=\"_parent\"><img src=\"https://colab.research.google.com/assets/colab-badge.svg\" alt=\"Open In Colab\"/></a>"
      ]
    },
    {
      "cell_type": "markdown",
      "source": [
        "**Title**\n",
        "\n",
        "Gun Violence Incident Fatality Predictor\n",
        "\n",
        "**Introduction**\n",
        "\n",
        "This project seeks to determine the fatality of gun violence incidents. The initial dataset comprised of data from 22 Police Departments across the United States.\n",
        "\n",
        "Dataset - https://github.com/the-trace-and-buzzfeed-news/local-police-data-analysis"
      ],
      "metadata": {
        "id": "-9ZsGhHR2OI1"
      }
    },
    {
      "cell_type": "markdown",
      "source": [
        "\n",
        "\n",
        "**4 PDs Dataset used**\n",
        "*   Baltimore PD\n",
        "*   Boston PD\n",
        "*   Los Angeles PD\n",
        "*   San Francisco PD\n",
        "\n",
        "**162,47 rows and 17 columns**\n",
        "\n",
        "**Data Selection**\n",
        "1.\tAll have ‘Non-Fatal Shooting’ and ‘Homicide-Gun’ variables under ‘offence_group’ column except Los Angeles.\n",
        "2.\tLos Angeles has ‘Homicide-Criminal-Fatal-Shooting’ and ‘Agg Assault - Shooting - Non-Fatal’ under ‘offence_category’.\n",
        "\n",
        "**Fatal** means ‘Homicide-Gun’ (as recorded by Baltimore PD, Boston PD, Newark PD, San Francisco PD) and ‘Homicide-Criminal-Fatal-Shooting’ (as recorded Los Angeles PD)\n",
        "\n",
        "**Non-Fatal** means ‘‘Non-Fatal Shooting’ (as recorded by Baltimore PD, Boston PD, Newark PD, San Francisco PD) and ‘Agg Assault - Shooting - Non-Fatal’ (as recorded by Los Angeles PD)\n",
        "\n",
        "**N0TE** Research started with 5 PDs but Newark-PD was dropped after further analysis"
      ],
      "metadata": {
        "id": "kS3ym1BU4U6i"
      }
    },
    {
      "cell_type": "code",
      "execution_count": null,
      "metadata": {
        "id": "nuim8-b56gv4",
        "colab": {
          "base_uri": "https://localhost:8080/",
          "height": 330
        },
        "outputId": "4ee6147d-1549-42e9-e540-52fa1ffdd6a6"
      },
      "outputs": [
        {
          "output_type": "execute_result",
          "data": {
            "text/plain": [
              "    agency_name occurred_date occurred_time    offense_category   weapon  \\\n",
              "0  BALTIMORE-PD     7/26/2017       UNKNOWN  NON FATAL SHOOTING  FIREARM   \n",
              "1  BALTIMORE-PD     7/26/2017       UNKNOWN  NON FATAL SHOOTING  FIREARM   \n",
              "2  BALTIMORE-PD     7/25/2017       UNKNOWN  NON FATAL SHOOTING  FIREARM   \n",
              "3  BALTIMORE-PD     7/25/2017       UNKNOWN  NON FATAL SHOOTING  FIREARM   \n",
              "4  BALTIMORE-PD     7/24/2017       UNKNOWN  NON FATAL SHOOTING  FIREARM   \n",
              "\n",
              "        offense_group gang_activity_ind  victim_age victim_race  \\\n",
              "0  Non-Fatal Shooting       UNSPECIFIED          22       BLACK   \n",
              "1  Non-Fatal Shooting       UNSPECIFIED          53       BLACK   \n",
              "2  Non-Fatal Shooting       UNSPECIFIED          19       BLACK   \n",
              "3  Non-Fatal Shooting       UNSPECIFIED          29       BLACK   \n",
              "4  Non-Fatal Shooting       UNSPECIFIED          22       BLACK   \n",
              "\n",
              "  victim_race_condensed victim_sex case_status arrest_ind clearance_status  \\\n",
              "0        BLACK/HISPANIC       MALE        OPEN    UNKNOWN             OPEN   \n",
              "1        BLACK/HISPANIC     FEMALE        OPEN    UNKNOWN             OPEN   \n",
              "2        BLACK/HISPANIC       MALE        OPEN    UNKNOWN             OPEN   \n",
              "3        BLACK/HISPANIC       MALE        OPEN    UNKNOWN             OPEN   \n",
              "4        BLACK/HISPANIC       MALE        OPEN    UNKNOWN             OPEN   \n",
              "\n",
              "                clearance_group Fatality Status  \n",
              "0  Open & No Arrest-Unspecified       Non-Fatal  \n",
              "1  Open & No Arrest-Unspecified       Non-Fatal  \n",
              "2  Open & No Arrest-Unspecified       Non-Fatal  \n",
              "3  Open & No Arrest-Unspecified       Non-Fatal  \n",
              "4  Open & No Arrest-Unspecified       Non-Fatal  "
            ],
            "text/html": [
              "\n",
              "  <div id=\"df-3b23e1c2-efd3-4204-b51c-25867d4ffffb\" class=\"colab-df-container\">\n",
              "    <div>\n",
              "<style scoped>\n",
              "    .dataframe tbody tr th:only-of-type {\n",
              "        vertical-align: middle;\n",
              "    }\n",
              "\n",
              "    .dataframe tbody tr th {\n",
              "        vertical-align: top;\n",
              "    }\n",
              "\n",
              "    .dataframe thead th {\n",
              "        text-align: right;\n",
              "    }\n",
              "</style>\n",
              "<table border=\"1\" class=\"dataframe\">\n",
              "  <thead>\n",
              "    <tr style=\"text-align: right;\">\n",
              "      <th></th>\n",
              "      <th>agency_name</th>\n",
              "      <th>occurred_date</th>\n",
              "      <th>occurred_time</th>\n",
              "      <th>offense_category</th>\n",
              "      <th>weapon</th>\n",
              "      <th>offense_group</th>\n",
              "      <th>gang_activity_ind</th>\n",
              "      <th>victim_age</th>\n",
              "      <th>victim_race</th>\n",
              "      <th>victim_race_condensed</th>\n",
              "      <th>victim_sex</th>\n",
              "      <th>case_status</th>\n",
              "      <th>arrest_ind</th>\n",
              "      <th>clearance_status</th>\n",
              "      <th>clearance_group</th>\n",
              "      <th>Fatality Status</th>\n",
              "    </tr>\n",
              "  </thead>\n",
              "  <tbody>\n",
              "    <tr>\n",
              "      <th>0</th>\n",
              "      <td>BALTIMORE-PD</td>\n",
              "      <td>7/26/2017</td>\n",
              "      <td>UNKNOWN</td>\n",
              "      <td>NON FATAL SHOOTING</td>\n",
              "      <td>FIREARM</td>\n",
              "      <td>Non-Fatal Shooting</td>\n",
              "      <td>UNSPECIFIED</td>\n",
              "      <td>22</td>\n",
              "      <td>BLACK</td>\n",
              "      <td>BLACK/HISPANIC</td>\n",
              "      <td>MALE</td>\n",
              "      <td>OPEN</td>\n",
              "      <td>UNKNOWN</td>\n",
              "      <td>OPEN</td>\n",
              "      <td>Open &amp; No Arrest-Unspecified</td>\n",
              "      <td>Non-Fatal</td>\n",
              "    </tr>\n",
              "    <tr>\n",
              "      <th>1</th>\n",
              "      <td>BALTIMORE-PD</td>\n",
              "      <td>7/26/2017</td>\n",
              "      <td>UNKNOWN</td>\n",
              "      <td>NON FATAL SHOOTING</td>\n",
              "      <td>FIREARM</td>\n",
              "      <td>Non-Fatal Shooting</td>\n",
              "      <td>UNSPECIFIED</td>\n",
              "      <td>53</td>\n",
              "      <td>BLACK</td>\n",
              "      <td>BLACK/HISPANIC</td>\n",
              "      <td>FEMALE</td>\n",
              "      <td>OPEN</td>\n",
              "      <td>UNKNOWN</td>\n",
              "      <td>OPEN</td>\n",
              "      <td>Open &amp; No Arrest-Unspecified</td>\n",
              "      <td>Non-Fatal</td>\n",
              "    </tr>\n",
              "    <tr>\n",
              "      <th>2</th>\n",
              "      <td>BALTIMORE-PD</td>\n",
              "      <td>7/25/2017</td>\n",
              "      <td>UNKNOWN</td>\n",
              "      <td>NON FATAL SHOOTING</td>\n",
              "      <td>FIREARM</td>\n",
              "      <td>Non-Fatal Shooting</td>\n",
              "      <td>UNSPECIFIED</td>\n",
              "      <td>19</td>\n",
              "      <td>BLACK</td>\n",
              "      <td>BLACK/HISPANIC</td>\n",
              "      <td>MALE</td>\n",
              "      <td>OPEN</td>\n",
              "      <td>UNKNOWN</td>\n",
              "      <td>OPEN</td>\n",
              "      <td>Open &amp; No Arrest-Unspecified</td>\n",
              "      <td>Non-Fatal</td>\n",
              "    </tr>\n",
              "    <tr>\n",
              "      <th>3</th>\n",
              "      <td>BALTIMORE-PD</td>\n",
              "      <td>7/25/2017</td>\n",
              "      <td>UNKNOWN</td>\n",
              "      <td>NON FATAL SHOOTING</td>\n",
              "      <td>FIREARM</td>\n",
              "      <td>Non-Fatal Shooting</td>\n",
              "      <td>UNSPECIFIED</td>\n",
              "      <td>29</td>\n",
              "      <td>BLACK</td>\n",
              "      <td>BLACK/HISPANIC</td>\n",
              "      <td>MALE</td>\n",
              "      <td>OPEN</td>\n",
              "      <td>UNKNOWN</td>\n",
              "      <td>OPEN</td>\n",
              "      <td>Open &amp; No Arrest-Unspecified</td>\n",
              "      <td>Non-Fatal</td>\n",
              "    </tr>\n",
              "    <tr>\n",
              "      <th>4</th>\n",
              "      <td>BALTIMORE-PD</td>\n",
              "      <td>7/24/2017</td>\n",
              "      <td>UNKNOWN</td>\n",
              "      <td>NON FATAL SHOOTING</td>\n",
              "      <td>FIREARM</td>\n",
              "      <td>Non-Fatal Shooting</td>\n",
              "      <td>UNSPECIFIED</td>\n",
              "      <td>22</td>\n",
              "      <td>BLACK</td>\n",
              "      <td>BLACK/HISPANIC</td>\n",
              "      <td>MALE</td>\n",
              "      <td>OPEN</td>\n",
              "      <td>UNKNOWN</td>\n",
              "      <td>OPEN</td>\n",
              "      <td>Open &amp; No Arrest-Unspecified</td>\n",
              "      <td>Non-Fatal</td>\n",
              "    </tr>\n",
              "  </tbody>\n",
              "</table>\n",
              "</div>\n",
              "    <div class=\"colab-df-buttons\">\n",
              "\n",
              "  <div class=\"colab-df-container\">\n",
              "    <button class=\"colab-df-convert\" onclick=\"convertToInteractive('df-3b23e1c2-efd3-4204-b51c-25867d4ffffb')\"\n",
              "            title=\"Convert this dataframe to an interactive table.\"\n",
              "            style=\"display:none;\">\n",
              "\n",
              "  <svg xmlns=\"http://www.w3.org/2000/svg\" height=\"24px\" viewBox=\"0 -960 960 960\">\n",
              "    <path d=\"M120-120v-720h720v720H120Zm60-500h600v-160H180v160Zm220 220h160v-160H400v160Zm0 220h160v-160H400v160ZM180-400h160v-160H180v160Zm440 0h160v-160H620v160ZM180-180h160v-160H180v160Zm440 0h160v-160H620v160Z\"/>\n",
              "  </svg>\n",
              "    </button>\n",
              "\n",
              "  <style>\n",
              "    .colab-df-container {\n",
              "      display:flex;\n",
              "      gap: 12px;\n",
              "    }\n",
              "\n",
              "    .colab-df-convert {\n",
              "      background-color: #E8F0FE;\n",
              "      border: none;\n",
              "      border-radius: 50%;\n",
              "      cursor: pointer;\n",
              "      display: none;\n",
              "      fill: #1967D2;\n",
              "      height: 32px;\n",
              "      padding: 0 0 0 0;\n",
              "      width: 32px;\n",
              "    }\n",
              "\n",
              "    .colab-df-convert:hover {\n",
              "      background-color: #E2EBFA;\n",
              "      box-shadow: 0px 1px 2px rgba(60, 64, 67, 0.3), 0px 1px 3px 1px rgba(60, 64, 67, 0.15);\n",
              "      fill: #174EA6;\n",
              "    }\n",
              "\n",
              "    .colab-df-buttons div {\n",
              "      margin-bottom: 4px;\n",
              "    }\n",
              "\n",
              "    [theme=dark] .colab-df-convert {\n",
              "      background-color: #3B4455;\n",
              "      fill: #D2E3FC;\n",
              "    }\n",
              "\n",
              "    [theme=dark] .colab-df-convert:hover {\n",
              "      background-color: #434B5C;\n",
              "      box-shadow: 0px 1px 3px 1px rgba(0, 0, 0, 0.15);\n",
              "      filter: drop-shadow(0px 1px 2px rgba(0, 0, 0, 0.3));\n",
              "      fill: #FFFFFF;\n",
              "    }\n",
              "  </style>\n",
              "\n",
              "    <script>\n",
              "      const buttonEl =\n",
              "        document.querySelector('#df-3b23e1c2-efd3-4204-b51c-25867d4ffffb button.colab-df-convert');\n",
              "      buttonEl.style.display =\n",
              "        google.colab.kernel.accessAllowed ? 'block' : 'none';\n",
              "\n",
              "      async function convertToInteractive(key) {\n",
              "        const element = document.querySelector('#df-3b23e1c2-efd3-4204-b51c-25867d4ffffb');\n",
              "        const dataTable =\n",
              "          await google.colab.kernel.invokeFunction('convertToInteractive',\n",
              "                                                    [key], {});\n",
              "        if (!dataTable) return;\n",
              "\n",
              "        const docLinkHtml = 'Like what you see? Visit the ' +\n",
              "          '<a target=\"_blank\" href=https://colab.research.google.com/notebooks/data_table.ipynb>data table notebook</a>'\n",
              "          + ' to learn more about interactive tables.';\n",
              "        element.innerHTML = '';\n",
              "        dataTable['output_type'] = 'display_data';\n",
              "        await google.colab.output.renderOutput(dataTable, element);\n",
              "        const docLink = document.createElement('div');\n",
              "        docLink.innerHTML = docLinkHtml;\n",
              "        element.appendChild(docLink);\n",
              "      }\n",
              "    </script>\n",
              "  </div>\n",
              "\n",
              "\n",
              "<div id=\"df-952e0244-b326-410f-8d9b-dae835054055\">\n",
              "  <button class=\"colab-df-quickchart\" onclick=\"quickchart('df-952e0244-b326-410f-8d9b-dae835054055')\"\n",
              "            title=\"Suggest charts\"\n",
              "            style=\"display:none;\">\n",
              "\n",
              "<svg xmlns=\"http://www.w3.org/2000/svg\" height=\"24px\"viewBox=\"0 0 24 24\"\n",
              "     width=\"24px\">\n",
              "    <g>\n",
              "        <path d=\"M19 3H5c-1.1 0-2 .9-2 2v14c0 1.1.9 2 2 2h14c1.1 0 2-.9 2-2V5c0-1.1-.9-2-2-2zM9 17H7v-7h2v7zm4 0h-2V7h2v10zm4 0h-2v-4h2v4z\"/>\n",
              "    </g>\n",
              "</svg>\n",
              "  </button>\n",
              "\n",
              "<style>\n",
              "  .colab-df-quickchart {\n",
              "      --bg-color: #E8F0FE;\n",
              "      --fill-color: #1967D2;\n",
              "      --hover-bg-color: #E2EBFA;\n",
              "      --hover-fill-color: #174EA6;\n",
              "      --disabled-fill-color: #AAA;\n",
              "      --disabled-bg-color: #DDD;\n",
              "  }\n",
              "\n",
              "  [theme=dark] .colab-df-quickchart {\n",
              "      --bg-color: #3B4455;\n",
              "      --fill-color: #D2E3FC;\n",
              "      --hover-bg-color: #434B5C;\n",
              "      --hover-fill-color: #FFFFFF;\n",
              "      --disabled-bg-color: #3B4455;\n",
              "      --disabled-fill-color: #666;\n",
              "  }\n",
              "\n",
              "  .colab-df-quickchart {\n",
              "    background-color: var(--bg-color);\n",
              "    border: none;\n",
              "    border-radius: 50%;\n",
              "    cursor: pointer;\n",
              "    display: none;\n",
              "    fill: var(--fill-color);\n",
              "    height: 32px;\n",
              "    padding: 0;\n",
              "    width: 32px;\n",
              "  }\n",
              "\n",
              "  .colab-df-quickchart:hover {\n",
              "    background-color: var(--hover-bg-color);\n",
              "    box-shadow: 0 1px 2px rgba(60, 64, 67, 0.3), 0 1px 3px 1px rgba(60, 64, 67, 0.15);\n",
              "    fill: var(--button-hover-fill-color);\n",
              "  }\n",
              "\n",
              "  .colab-df-quickchart-complete:disabled,\n",
              "  .colab-df-quickchart-complete:disabled:hover {\n",
              "    background-color: var(--disabled-bg-color);\n",
              "    fill: var(--disabled-fill-color);\n",
              "    box-shadow: none;\n",
              "  }\n",
              "\n",
              "  .colab-df-spinner {\n",
              "    border: 2px solid var(--fill-color);\n",
              "    border-color: transparent;\n",
              "    border-bottom-color: var(--fill-color);\n",
              "    animation:\n",
              "      spin 1s steps(1) infinite;\n",
              "  }\n",
              "\n",
              "  @keyframes spin {\n",
              "    0% {\n",
              "      border-color: transparent;\n",
              "      border-bottom-color: var(--fill-color);\n",
              "      border-left-color: var(--fill-color);\n",
              "    }\n",
              "    20% {\n",
              "      border-color: transparent;\n",
              "      border-left-color: var(--fill-color);\n",
              "      border-top-color: var(--fill-color);\n",
              "    }\n",
              "    30% {\n",
              "      border-color: transparent;\n",
              "      border-left-color: var(--fill-color);\n",
              "      border-top-color: var(--fill-color);\n",
              "      border-right-color: var(--fill-color);\n",
              "    }\n",
              "    40% {\n",
              "      border-color: transparent;\n",
              "      border-right-color: var(--fill-color);\n",
              "      border-top-color: var(--fill-color);\n",
              "    }\n",
              "    60% {\n",
              "      border-color: transparent;\n",
              "      border-right-color: var(--fill-color);\n",
              "    }\n",
              "    80% {\n",
              "      border-color: transparent;\n",
              "      border-right-color: var(--fill-color);\n",
              "      border-bottom-color: var(--fill-color);\n",
              "    }\n",
              "    90% {\n",
              "      border-color: transparent;\n",
              "      border-bottom-color: var(--fill-color);\n",
              "    }\n",
              "  }\n",
              "</style>\n",
              "\n",
              "  <script>\n",
              "    async function quickchart(key) {\n",
              "      const quickchartButtonEl =\n",
              "        document.querySelector('#' + key + ' button');\n",
              "      quickchartButtonEl.disabled = true;  // To prevent multiple clicks.\n",
              "      quickchartButtonEl.classList.add('colab-df-spinner');\n",
              "      try {\n",
              "        const charts = await google.colab.kernel.invokeFunction(\n",
              "            'suggestCharts', [key], {});\n",
              "      } catch (error) {\n",
              "        console.error('Error during call to suggestCharts:', error);\n",
              "      }\n",
              "      quickchartButtonEl.classList.remove('colab-df-spinner');\n",
              "      quickchartButtonEl.classList.add('colab-df-quickchart-complete');\n",
              "    }\n",
              "    (() => {\n",
              "      let quickchartButtonEl =\n",
              "        document.querySelector('#df-952e0244-b326-410f-8d9b-dae835054055 button');\n",
              "      quickchartButtonEl.style.display =\n",
              "        google.colab.kernel.accessAllowed ? 'block' : 'none';\n",
              "    })();\n",
              "  </script>\n",
              "</div>\n",
              "\n",
              "    </div>\n",
              "  </div>\n"
            ],
            "application/vnd.google.colaboratory.intrinsic+json": {
              "type": "dataframe",
              "variable_name": "data",
              "summary": "{\n  \"name\": \"data\",\n  \"rows\": 16247,\n  \"fields\": [\n    {\n      \"column\": \"agency_name\",\n      \"properties\": {\n        \"dtype\": \"category\",\n        \"num_unique_values\": 4,\n        \"samples\": [\n          \"BOSTON-PD\",\n          \"SAN-FRANCISCO-PD\",\n          \"BALTIMORE-PD\"\n        ],\n        \"semantic_type\": \"\",\n        \"description\": \"\"\n      }\n    },\n    {\n      \"column\": \"occurred_date\",\n      \"properties\": {\n        \"dtype\": \"object\",\n        \"num_unique_values\": 3393,\n        \"samples\": [\n          \"7/18/2016\",\n          \"9/4/2013\",\n          \"2/21/2006\"\n        ],\n        \"semantic_type\": \"\",\n        \"description\": \"\"\n      }\n    },\n    {\n      \"column\": \"occurred_time\",\n      \"properties\": {\n        \"dtype\": \"category\",\n        \"num_unique_values\": 1119,\n        \"samples\": [\n          \"16:04\",\n          \"14:05\",\n          \"17:05\"\n        ],\n        \"semantic_type\": \"\",\n        \"description\": \"\"\n      }\n    },\n    {\n      \"column\": \"offense_category\",\n      \"properties\": {\n        \"dtype\": \"category\",\n        \"num_unique_values\": 6,\n        \"samples\": [\n          \"NON FATAL SHOOTING\",\n          \"HOMICIDE\",\n          \"NON-FATAL-SHOOTING\"\n        ],\n        \"semantic_type\": \"\",\n        \"description\": \"\"\n      }\n    },\n    {\n      \"column\": \"weapon\",\n      \"properties\": {\n        \"dtype\": \"category\",\n        \"num_unique_values\": 43,\n        \"samples\": [\n          \"VERBAL THREAT\",\n          \"UNK TYPE SEMIAUTOMATIC ASSAULT RIFLE\",\n          \"STARTER PISTOL/REVOLVER\"\n        ],\n        \"semantic_type\": \"\",\n        \"description\": \"\"\n      }\n    },\n    {\n      \"column\": \"offense_group\",\n      \"properties\": {\n        \"dtype\": \"category\",\n        \"num_unique_values\": 3,\n        \"samples\": [\n          \"Non-Fatal Shooting\",\n          \"Homicide - Gun\",\n          \"Agg Assault - Gun\"\n        ],\n        \"semantic_type\": \"\",\n        \"description\": \"\"\n      }\n    },\n    {\n      \"column\": \"gang_activity_ind\",\n      \"properties\": {\n        \"dtype\": \"category\",\n        \"num_unique_values\": 3,\n        \"samples\": [\n          \"UNSPECIFIED\",\n          \"Y\",\n          \"N\"\n        ],\n        \"semantic_type\": \"\",\n        \"description\": \"\"\n      }\n    },\n    {\n      \"column\": \"victim_age\",\n      \"properties\": {\n        \"dtype\": \"number\",\n        \"std\": 10,\n        \"min\": 0,\n        \"max\": 99,\n        \"num_unique_values\": 90,\n        \"samples\": [\n          59,\n          42,\n          4\n        ],\n        \"semantic_type\": \"\",\n        \"description\": \"\"\n      }\n    },\n    {\n      \"column\": \"victim_race\",\n      \"properties\": {\n        \"dtype\": \"category\",\n        \"num_unique_values\": 13,\n        \"samples\": [\n          \"ASIAN OR PACIFIC ISLANDER\",\n          \"BLACK HISPANIC\",\n          \"BLACK\"\n        ],\n        \"semantic_type\": \"\",\n        \"description\": \"\"\n      }\n    },\n    {\n      \"column\": \"victim_race_condensed\",\n      \"properties\": {\n        \"dtype\": \"category\",\n        \"num_unique_values\": 3,\n        \"samples\": [\n          \"BLACK/HISPANIC\",\n          \"WHITE\",\n          \"OTHER/UNKNOWN\"\n        ],\n        \"semantic_type\": \"\",\n        \"description\": \"\"\n      }\n    },\n    {\n      \"column\": \"victim_sex\",\n      \"properties\": {\n        \"dtype\": \"category\",\n        \"num_unique_values\": 7,\n        \"samples\": [\n          \"MALE\",\n          \"FEMALE\",\n          \"X\"\n        ],\n        \"semantic_type\": \"\",\n        \"description\": \"\"\n      }\n    },\n    {\n      \"column\": \"case_status\",\n      \"properties\": {\n        \"dtype\": \"category\",\n        \"num_unique_values\": 19,\n        \"samples\": [\n          \"OPEN\",\n          \"JUVENILE/CUSTODY\",\n          \"MISSING\"\n        ],\n        \"semantic_type\": \"\",\n        \"description\": \"\"\n      }\n    },\n    {\n      \"column\": \"arrest_ind\",\n      \"properties\": {\n        \"dtype\": \"category\",\n        \"num_unique_values\": 3,\n        \"samples\": [\n          \"UNKNOWN\",\n          \"N\",\n          \"Y\"\n        ],\n        \"semantic_type\": \"\",\n        \"description\": \"\"\n      }\n    },\n    {\n      \"column\": \"clearance_status\",\n      \"properties\": {\n        \"dtype\": \"category\",\n        \"num_unique_values\": 6,\n        \"samples\": [\n          \"OPEN\",\n          \"CLOSED-UNSPECIFIED\",\n          \"MISSING\"\n        ],\n        \"semantic_type\": \"\",\n        \"description\": \"\"\n      }\n    },\n    {\n      \"column\": \"clearance_group\",\n      \"properties\": {\n        \"dtype\": \"category\",\n        \"num_unique_values\": 5,\n        \"samples\": [\n          \"Cleared/Closed-Unspecified\",\n          \"Null, Missing, Unclear\",\n          \"Cleared-Arrest & Arrest-Unspecified\"\n        ],\n        \"semantic_type\": \"\",\n        \"description\": \"\"\n      }\n    },\n    {\n      \"column\": \"Fatality Status\",\n      \"properties\": {\n        \"dtype\": \"category\",\n        \"num_unique_values\": 2,\n        \"samples\": [\n          \"Fatal\",\n          \"Non-Fatal\"\n        ],\n        \"semantic_type\": \"\",\n        \"description\": \"\"\n      }\n    }\n  ]\n}"
            }
          },
          "metadata": {},
          "execution_count": 240
        }
      ],
      "source": [
        "#import library and load dataset\n",
        "import pandas as pd\n",
        "data = pd.read_csv(r'https://raw.githubusercontent.com/AI4ALL-Class8-Group2/offensive-standard-data/connor-branch/offenses_fatality_final_1.0.csv')\n",
        "\n",
        "\n",
        "# show the first 5 rows of the data\n",
        "data.head()"
      ]
    },
    {
      "cell_type": "code",
      "execution_count": null,
      "metadata": {
        "id": "abolTbYV3SUJ",
        "colab": {
          "base_uri": "https://localhost:8080/"
        },
        "outputId": "d59cf57a-e361-4e75-8678-adbbc06536fa"
      },
      "outputs": [
        {
          "output_type": "stream",
          "name": "stdout",
          "text": [
            "(16247, 16)\n"
          ]
        }
      ],
      "source": [
        "# show number of rows and columns\n",
        "print(data.shape)"
      ]
    },
    {
      "cell_type": "code",
      "execution_count": null,
      "metadata": {
        "id": "iUTOaFhA3buE",
        "colab": {
          "base_uri": "https://localhost:8080/"
        },
        "outputId": "36934d6d-383c-433b-865d-fd6d00270a44"
      },
      "outputs": [
        {
          "output_type": "stream",
          "name": "stdout",
          "text": [
            "<class 'pandas.core.frame.DataFrame'>\n",
            "RangeIndex: 16247 entries, 0 to 16246\n",
            "Data columns (total 16 columns):\n",
            " #   Column                 Non-Null Count  Dtype \n",
            "---  ------                 --------------  ----- \n",
            " 0   agency_name            16247 non-null  object\n",
            " 1   occurred_date          16247 non-null  object\n",
            " 2   occurred_time          16247 non-null  object\n",
            " 3   offense_category       16247 non-null  object\n",
            " 4   weapon                 16247 non-null  object\n",
            " 5   offense_group          16247 non-null  object\n",
            " 6   gang_activity_ind      16247 non-null  object\n",
            " 7   victim_age             16247 non-null  int64 \n",
            " 8   victim_race            16247 non-null  object\n",
            " 9   victim_race_condensed  16247 non-null  object\n",
            " 10  victim_sex             16247 non-null  object\n",
            " 11  case_status            16247 non-null  object\n",
            " 12  arrest_ind             16247 non-null  object\n",
            " 13  clearance_status       16247 non-null  object\n",
            " 14  clearance_group        16247 non-null  object\n",
            " 15  Fatality Status        16247 non-null  object\n",
            "dtypes: int64(1), object(15)\n",
            "memory usage: 2.0+ MB\n",
            "None\n"
          ]
        }
      ],
      "source": [
        "# show data info\n",
        "print(data.info())"
      ]
    },
    {
      "cell_type": "code",
      "execution_count": null,
      "metadata": {
        "id": "NjTVfbyp3fPz",
        "colab": {
          "base_uri": "https://localhost:8080/"
        },
        "outputId": "13a0047e-39ed-4d56-941f-5385bcb71025"
      },
      "outputs": [
        {
          "output_type": "stream",
          "name": "stdout",
          "text": [
            "Index(['agency_name', 'occurred_date', 'occurred_time', 'offense_category',\n",
            "       'weapon', 'offense_group', 'gang_activity_ind', 'victim_age',\n",
            "       'victim_race', 'victim_race_condensed', 'victim_sex', 'case_status',\n",
            "       'arrest_ind', 'clearance_status', 'clearance_group', 'Fatality Status'],\n",
            "      dtype='object')\n"
          ]
        }
      ],
      "source": [
        "# show feature names\n",
        "print(data.keys())"
      ]
    },
    {
      "cell_type": "code",
      "execution_count": null,
      "metadata": {
        "id": "kycy4_J-60qU",
        "colab": {
          "base_uri": "https://localhost:8080/"
        },
        "outputId": "13a0e8de-faa5-497c-b93b-df7044ace05a"
      },
      "outputs": [
        {
          "output_type": "stream",
          "name": "stdout",
          "text": [
            "(16247, 16)\n",
            "(16247, 16)\n"
          ]
        }
      ],
      "source": [
        "# delete rows with missing values\n",
        "print(data.shape)\n",
        "print(data.dropna().shape)"
      ]
    },
    {
      "cell_type": "code",
      "execution_count": null,
      "metadata": {
        "id": "JWlSH9rw55VV",
        "colab": {
          "base_uri": "https://localhost:8080/",
          "height": 721
        },
        "outputId": "fa2196a5-804f-4f0b-f9ed-dad236137aea"
      },
      "outputs": [
        {
          "output_type": "execute_result",
          "data": {
            "text/plain": [
              "            agency_name occurred_date occurred_time    offense_category  \\\n",
              "22         BALTIMORE-PD     7/18/2017       UNKNOWN  NON FATAL SHOOTING   \n",
              "25         BALTIMORE-PD     7/18/2017       UNKNOWN  NON FATAL SHOOTING   \n",
              "35         BALTIMORE-PD     7/14/2017       UNKNOWN  NON FATAL SHOOTING   \n",
              "36         BALTIMORE-PD     7/14/2017       UNKNOWN  NON FATAL SHOOTING   \n",
              "85         BALTIMORE-PD     6/25/2017       UNKNOWN  NON FATAL SHOOTING   \n",
              "...                 ...           ...           ...                 ...   \n",
              "16144  SAN-FRANCISCO-PD      8/9/2013       UNKNOWN  NON-FATAL-SHOOTING   \n",
              "16180  SAN-FRANCISCO-PD     1/15/2014       UNKNOWN  NON-FATAL-SHOOTING   \n",
              "16181  SAN-FRANCISCO-PD     1/15/2014       UNKNOWN  NON-FATAL-SHOOTING   \n",
              "16201  SAN-FRANCISCO-PD     5/11/2014       UNKNOWN  NON-FATAL-SHOOTING   \n",
              "16202  SAN-FRANCISCO-PD     5/11/2014       UNKNOWN  NON-FATAL-SHOOTING   \n",
              "\n",
              "        weapon       offense_group gang_activity_ind  victim_age victim_race  \\\n",
              "22     FIREARM  Non-Fatal Shooting       UNSPECIFIED          20       BLACK   \n",
              "25     FIREARM  Non-Fatal Shooting       UNSPECIFIED          20       BLACK   \n",
              "35     FIREARM  Non-Fatal Shooting       UNSPECIFIED          27       BLACK   \n",
              "36     FIREARM  Non-Fatal Shooting       UNSPECIFIED          27       BLACK   \n",
              "85     FIREARM  Non-Fatal Shooting       UNSPECIFIED          24       BLACK   \n",
              "...        ...                 ...               ...         ...         ...   \n",
              "16144  FIREARM  Non-Fatal Shooting       UNSPECIFIED          19       BLACK   \n",
              "16180  FIREARM  Non-Fatal Shooting       UNSPECIFIED          16       BLACK   \n",
              "16181  FIREARM  Non-Fatal Shooting       UNSPECIFIED          16       BLACK   \n",
              "16201  FIREARM  Non-Fatal Shooting       UNSPECIFIED          19    HISPANIC   \n",
              "16202  FIREARM  Non-Fatal Shooting       UNSPECIFIED          19    HISPANIC   \n",
              "\n",
              "      victim_race_condensed victim_sex case_status arrest_ind  \\\n",
              "22           BLACK/HISPANIC       MALE        OPEN    UNKNOWN   \n",
              "25           BLACK/HISPANIC       MALE        OPEN    UNKNOWN   \n",
              "35           BLACK/HISPANIC       MALE        OPEN    UNKNOWN   \n",
              "36           BLACK/HISPANIC       MALE        OPEN    UNKNOWN   \n",
              "85           BLACK/HISPANIC       MALE        OPEN    UNKNOWN   \n",
              "...                     ...        ...         ...        ...   \n",
              "16144        BLACK/HISPANIC       MALE        OPEN          N   \n",
              "16180        BLACK/HISPANIC       MALE        OPEN          N   \n",
              "16181        BLACK/HISPANIC       MALE        OPEN          N   \n",
              "16201        BLACK/HISPANIC       MALE        OPEN          N   \n",
              "16202        BLACK/HISPANIC       MALE        OPEN          N   \n",
              "\n",
              "      clearance_status               clearance_group Fatality Status  \n",
              "22                OPEN  Open & No Arrest-Unspecified       Non-Fatal  \n",
              "25                OPEN  Open & No Arrest-Unspecified       Non-Fatal  \n",
              "35                OPEN  Open & No Arrest-Unspecified       Non-Fatal  \n",
              "36                OPEN  Open & No Arrest-Unspecified       Non-Fatal  \n",
              "85                OPEN  Open & No Arrest-Unspecified       Non-Fatal  \n",
              "...                ...                           ...             ...  \n",
              "16144             OPEN  Open & No Arrest-Unspecified       Non-Fatal  \n",
              "16180             OPEN  Open & No Arrest-Unspecified       Non-Fatal  \n",
              "16181             OPEN  Open & No Arrest-Unspecified       Non-Fatal  \n",
              "16201             OPEN  Open & No Arrest-Unspecified       Non-Fatal  \n",
              "16202             OPEN  Open & No Arrest-Unspecified       Non-Fatal  \n",
              "\n",
              "[426 rows x 16 columns]"
            ],
            "text/html": [
              "\n",
              "  <div id=\"df-3c39545b-c4f1-4032-be10-f4212eea3f44\" class=\"colab-df-container\">\n",
              "    <div>\n",
              "<style scoped>\n",
              "    .dataframe tbody tr th:only-of-type {\n",
              "        vertical-align: middle;\n",
              "    }\n",
              "\n",
              "    .dataframe tbody tr th {\n",
              "        vertical-align: top;\n",
              "    }\n",
              "\n",
              "    .dataframe thead th {\n",
              "        text-align: right;\n",
              "    }\n",
              "</style>\n",
              "<table border=\"1\" class=\"dataframe\">\n",
              "  <thead>\n",
              "    <tr style=\"text-align: right;\">\n",
              "      <th></th>\n",
              "      <th>agency_name</th>\n",
              "      <th>occurred_date</th>\n",
              "      <th>occurred_time</th>\n",
              "      <th>offense_category</th>\n",
              "      <th>weapon</th>\n",
              "      <th>offense_group</th>\n",
              "      <th>gang_activity_ind</th>\n",
              "      <th>victim_age</th>\n",
              "      <th>victim_race</th>\n",
              "      <th>victim_race_condensed</th>\n",
              "      <th>victim_sex</th>\n",
              "      <th>case_status</th>\n",
              "      <th>arrest_ind</th>\n",
              "      <th>clearance_status</th>\n",
              "      <th>clearance_group</th>\n",
              "      <th>Fatality Status</th>\n",
              "    </tr>\n",
              "  </thead>\n",
              "  <tbody>\n",
              "    <tr>\n",
              "      <th>22</th>\n",
              "      <td>BALTIMORE-PD</td>\n",
              "      <td>7/18/2017</td>\n",
              "      <td>UNKNOWN</td>\n",
              "      <td>NON FATAL SHOOTING</td>\n",
              "      <td>FIREARM</td>\n",
              "      <td>Non-Fatal Shooting</td>\n",
              "      <td>UNSPECIFIED</td>\n",
              "      <td>20</td>\n",
              "      <td>BLACK</td>\n",
              "      <td>BLACK/HISPANIC</td>\n",
              "      <td>MALE</td>\n",
              "      <td>OPEN</td>\n",
              "      <td>UNKNOWN</td>\n",
              "      <td>OPEN</td>\n",
              "      <td>Open &amp; No Arrest-Unspecified</td>\n",
              "      <td>Non-Fatal</td>\n",
              "    </tr>\n",
              "    <tr>\n",
              "      <th>25</th>\n",
              "      <td>BALTIMORE-PD</td>\n",
              "      <td>7/18/2017</td>\n",
              "      <td>UNKNOWN</td>\n",
              "      <td>NON FATAL SHOOTING</td>\n",
              "      <td>FIREARM</td>\n",
              "      <td>Non-Fatal Shooting</td>\n",
              "      <td>UNSPECIFIED</td>\n",
              "      <td>20</td>\n",
              "      <td>BLACK</td>\n",
              "      <td>BLACK/HISPANIC</td>\n",
              "      <td>MALE</td>\n",
              "      <td>OPEN</td>\n",
              "      <td>UNKNOWN</td>\n",
              "      <td>OPEN</td>\n",
              "      <td>Open &amp; No Arrest-Unspecified</td>\n",
              "      <td>Non-Fatal</td>\n",
              "    </tr>\n",
              "    <tr>\n",
              "      <th>35</th>\n",
              "      <td>BALTIMORE-PD</td>\n",
              "      <td>7/14/2017</td>\n",
              "      <td>UNKNOWN</td>\n",
              "      <td>NON FATAL SHOOTING</td>\n",
              "      <td>FIREARM</td>\n",
              "      <td>Non-Fatal Shooting</td>\n",
              "      <td>UNSPECIFIED</td>\n",
              "      <td>27</td>\n",
              "      <td>BLACK</td>\n",
              "      <td>BLACK/HISPANIC</td>\n",
              "      <td>MALE</td>\n",
              "      <td>OPEN</td>\n",
              "      <td>UNKNOWN</td>\n",
              "      <td>OPEN</td>\n",
              "      <td>Open &amp; No Arrest-Unspecified</td>\n",
              "      <td>Non-Fatal</td>\n",
              "    </tr>\n",
              "    <tr>\n",
              "      <th>36</th>\n",
              "      <td>BALTIMORE-PD</td>\n",
              "      <td>7/14/2017</td>\n",
              "      <td>UNKNOWN</td>\n",
              "      <td>NON FATAL SHOOTING</td>\n",
              "      <td>FIREARM</td>\n",
              "      <td>Non-Fatal Shooting</td>\n",
              "      <td>UNSPECIFIED</td>\n",
              "      <td>27</td>\n",
              "      <td>BLACK</td>\n",
              "      <td>BLACK/HISPANIC</td>\n",
              "      <td>MALE</td>\n",
              "      <td>OPEN</td>\n",
              "      <td>UNKNOWN</td>\n",
              "      <td>OPEN</td>\n",
              "      <td>Open &amp; No Arrest-Unspecified</td>\n",
              "      <td>Non-Fatal</td>\n",
              "    </tr>\n",
              "    <tr>\n",
              "      <th>85</th>\n",
              "      <td>BALTIMORE-PD</td>\n",
              "      <td>6/25/2017</td>\n",
              "      <td>UNKNOWN</td>\n",
              "      <td>NON FATAL SHOOTING</td>\n",
              "      <td>FIREARM</td>\n",
              "      <td>Non-Fatal Shooting</td>\n",
              "      <td>UNSPECIFIED</td>\n",
              "      <td>24</td>\n",
              "      <td>BLACK</td>\n",
              "      <td>BLACK/HISPANIC</td>\n",
              "      <td>MALE</td>\n",
              "      <td>OPEN</td>\n",
              "      <td>UNKNOWN</td>\n",
              "      <td>OPEN</td>\n",
              "      <td>Open &amp; No Arrest-Unspecified</td>\n",
              "      <td>Non-Fatal</td>\n",
              "    </tr>\n",
              "    <tr>\n",
              "      <th>...</th>\n",
              "      <td>...</td>\n",
              "      <td>...</td>\n",
              "      <td>...</td>\n",
              "      <td>...</td>\n",
              "      <td>...</td>\n",
              "      <td>...</td>\n",
              "      <td>...</td>\n",
              "      <td>...</td>\n",
              "      <td>...</td>\n",
              "      <td>...</td>\n",
              "      <td>...</td>\n",
              "      <td>...</td>\n",
              "      <td>...</td>\n",
              "      <td>...</td>\n",
              "      <td>...</td>\n",
              "      <td>...</td>\n",
              "    </tr>\n",
              "    <tr>\n",
              "      <th>16144</th>\n",
              "      <td>SAN-FRANCISCO-PD</td>\n",
              "      <td>8/9/2013</td>\n",
              "      <td>UNKNOWN</td>\n",
              "      <td>NON-FATAL-SHOOTING</td>\n",
              "      <td>FIREARM</td>\n",
              "      <td>Non-Fatal Shooting</td>\n",
              "      <td>UNSPECIFIED</td>\n",
              "      <td>19</td>\n",
              "      <td>BLACK</td>\n",
              "      <td>BLACK/HISPANIC</td>\n",
              "      <td>MALE</td>\n",
              "      <td>OPEN</td>\n",
              "      <td>N</td>\n",
              "      <td>OPEN</td>\n",
              "      <td>Open &amp; No Arrest-Unspecified</td>\n",
              "      <td>Non-Fatal</td>\n",
              "    </tr>\n",
              "    <tr>\n",
              "      <th>16180</th>\n",
              "      <td>SAN-FRANCISCO-PD</td>\n",
              "      <td>1/15/2014</td>\n",
              "      <td>UNKNOWN</td>\n",
              "      <td>NON-FATAL-SHOOTING</td>\n",
              "      <td>FIREARM</td>\n",
              "      <td>Non-Fatal Shooting</td>\n",
              "      <td>UNSPECIFIED</td>\n",
              "      <td>16</td>\n",
              "      <td>BLACK</td>\n",
              "      <td>BLACK/HISPANIC</td>\n",
              "      <td>MALE</td>\n",
              "      <td>OPEN</td>\n",
              "      <td>N</td>\n",
              "      <td>OPEN</td>\n",
              "      <td>Open &amp; No Arrest-Unspecified</td>\n",
              "      <td>Non-Fatal</td>\n",
              "    </tr>\n",
              "    <tr>\n",
              "      <th>16181</th>\n",
              "      <td>SAN-FRANCISCO-PD</td>\n",
              "      <td>1/15/2014</td>\n",
              "      <td>UNKNOWN</td>\n",
              "      <td>NON-FATAL-SHOOTING</td>\n",
              "      <td>FIREARM</td>\n",
              "      <td>Non-Fatal Shooting</td>\n",
              "      <td>UNSPECIFIED</td>\n",
              "      <td>16</td>\n",
              "      <td>BLACK</td>\n",
              "      <td>BLACK/HISPANIC</td>\n",
              "      <td>MALE</td>\n",
              "      <td>OPEN</td>\n",
              "      <td>N</td>\n",
              "      <td>OPEN</td>\n",
              "      <td>Open &amp; No Arrest-Unspecified</td>\n",
              "      <td>Non-Fatal</td>\n",
              "    </tr>\n",
              "    <tr>\n",
              "      <th>16201</th>\n",
              "      <td>SAN-FRANCISCO-PD</td>\n",
              "      <td>5/11/2014</td>\n",
              "      <td>UNKNOWN</td>\n",
              "      <td>NON-FATAL-SHOOTING</td>\n",
              "      <td>FIREARM</td>\n",
              "      <td>Non-Fatal Shooting</td>\n",
              "      <td>UNSPECIFIED</td>\n",
              "      <td>19</td>\n",
              "      <td>HISPANIC</td>\n",
              "      <td>BLACK/HISPANIC</td>\n",
              "      <td>MALE</td>\n",
              "      <td>OPEN</td>\n",
              "      <td>N</td>\n",
              "      <td>OPEN</td>\n",
              "      <td>Open &amp; No Arrest-Unspecified</td>\n",
              "      <td>Non-Fatal</td>\n",
              "    </tr>\n",
              "    <tr>\n",
              "      <th>16202</th>\n",
              "      <td>SAN-FRANCISCO-PD</td>\n",
              "      <td>5/11/2014</td>\n",
              "      <td>UNKNOWN</td>\n",
              "      <td>NON-FATAL-SHOOTING</td>\n",
              "      <td>FIREARM</td>\n",
              "      <td>Non-Fatal Shooting</td>\n",
              "      <td>UNSPECIFIED</td>\n",
              "      <td>19</td>\n",
              "      <td>HISPANIC</td>\n",
              "      <td>BLACK/HISPANIC</td>\n",
              "      <td>MALE</td>\n",
              "      <td>OPEN</td>\n",
              "      <td>N</td>\n",
              "      <td>OPEN</td>\n",
              "      <td>Open &amp; No Arrest-Unspecified</td>\n",
              "      <td>Non-Fatal</td>\n",
              "    </tr>\n",
              "  </tbody>\n",
              "</table>\n",
              "<p>426 rows × 16 columns</p>\n",
              "</div>\n",
              "    <div class=\"colab-df-buttons\">\n",
              "\n",
              "  <div class=\"colab-df-container\">\n",
              "    <button class=\"colab-df-convert\" onclick=\"convertToInteractive('df-3c39545b-c4f1-4032-be10-f4212eea3f44')\"\n",
              "            title=\"Convert this dataframe to an interactive table.\"\n",
              "            style=\"display:none;\">\n",
              "\n",
              "  <svg xmlns=\"http://www.w3.org/2000/svg\" height=\"24px\" viewBox=\"0 -960 960 960\">\n",
              "    <path d=\"M120-120v-720h720v720H120Zm60-500h600v-160H180v160Zm220 220h160v-160H400v160Zm0 220h160v-160H400v160ZM180-400h160v-160H180v160Zm440 0h160v-160H620v160ZM180-180h160v-160H180v160Zm440 0h160v-160H620v160Z\"/>\n",
              "  </svg>\n",
              "    </button>\n",
              "\n",
              "  <style>\n",
              "    .colab-df-container {\n",
              "      display:flex;\n",
              "      gap: 12px;\n",
              "    }\n",
              "\n",
              "    .colab-df-convert {\n",
              "      background-color: #E8F0FE;\n",
              "      border: none;\n",
              "      border-radius: 50%;\n",
              "      cursor: pointer;\n",
              "      display: none;\n",
              "      fill: #1967D2;\n",
              "      height: 32px;\n",
              "      padding: 0 0 0 0;\n",
              "      width: 32px;\n",
              "    }\n",
              "\n",
              "    .colab-df-convert:hover {\n",
              "      background-color: #E2EBFA;\n",
              "      box-shadow: 0px 1px 2px rgba(60, 64, 67, 0.3), 0px 1px 3px 1px rgba(60, 64, 67, 0.15);\n",
              "      fill: #174EA6;\n",
              "    }\n",
              "\n",
              "    .colab-df-buttons div {\n",
              "      margin-bottom: 4px;\n",
              "    }\n",
              "\n",
              "    [theme=dark] .colab-df-convert {\n",
              "      background-color: #3B4455;\n",
              "      fill: #D2E3FC;\n",
              "    }\n",
              "\n",
              "    [theme=dark] .colab-df-convert:hover {\n",
              "      background-color: #434B5C;\n",
              "      box-shadow: 0px 1px 3px 1px rgba(0, 0, 0, 0.15);\n",
              "      filter: drop-shadow(0px 1px 2px rgba(0, 0, 0, 0.3));\n",
              "      fill: #FFFFFF;\n",
              "    }\n",
              "  </style>\n",
              "\n",
              "    <script>\n",
              "      const buttonEl =\n",
              "        document.querySelector('#df-3c39545b-c4f1-4032-be10-f4212eea3f44 button.colab-df-convert');\n",
              "      buttonEl.style.display =\n",
              "        google.colab.kernel.accessAllowed ? 'block' : 'none';\n",
              "\n",
              "      async function convertToInteractive(key) {\n",
              "        const element = document.querySelector('#df-3c39545b-c4f1-4032-be10-f4212eea3f44');\n",
              "        const dataTable =\n",
              "          await google.colab.kernel.invokeFunction('convertToInteractive',\n",
              "                                                    [key], {});\n",
              "        if (!dataTable) return;\n",
              "\n",
              "        const docLinkHtml = 'Like what you see? Visit the ' +\n",
              "          '<a target=\"_blank\" href=https://colab.research.google.com/notebooks/data_table.ipynb>data table notebook</a>'\n",
              "          + ' to learn more about interactive tables.';\n",
              "        element.innerHTML = '';\n",
              "        dataTable['output_type'] = 'display_data';\n",
              "        await google.colab.output.renderOutput(dataTable, element);\n",
              "        const docLink = document.createElement('div');\n",
              "        docLink.innerHTML = docLinkHtml;\n",
              "        element.appendChild(docLink);\n",
              "      }\n",
              "    </script>\n",
              "  </div>\n",
              "\n",
              "\n",
              "<div id=\"df-edb478a4-28ec-4823-a505-11b2251c91f7\">\n",
              "  <button class=\"colab-df-quickchart\" onclick=\"quickchart('df-edb478a4-28ec-4823-a505-11b2251c91f7')\"\n",
              "            title=\"Suggest charts\"\n",
              "            style=\"display:none;\">\n",
              "\n",
              "<svg xmlns=\"http://www.w3.org/2000/svg\" height=\"24px\"viewBox=\"0 0 24 24\"\n",
              "     width=\"24px\">\n",
              "    <g>\n",
              "        <path d=\"M19 3H5c-1.1 0-2 .9-2 2v14c0 1.1.9 2 2 2h14c1.1 0 2-.9 2-2V5c0-1.1-.9-2-2-2zM9 17H7v-7h2v7zm4 0h-2V7h2v10zm4 0h-2v-4h2v4z\"/>\n",
              "    </g>\n",
              "</svg>\n",
              "  </button>\n",
              "\n",
              "<style>\n",
              "  .colab-df-quickchart {\n",
              "      --bg-color: #E8F0FE;\n",
              "      --fill-color: #1967D2;\n",
              "      --hover-bg-color: #E2EBFA;\n",
              "      --hover-fill-color: #174EA6;\n",
              "      --disabled-fill-color: #AAA;\n",
              "      --disabled-bg-color: #DDD;\n",
              "  }\n",
              "\n",
              "  [theme=dark] .colab-df-quickchart {\n",
              "      --bg-color: #3B4455;\n",
              "      --fill-color: #D2E3FC;\n",
              "      --hover-bg-color: #434B5C;\n",
              "      --hover-fill-color: #FFFFFF;\n",
              "      --disabled-bg-color: #3B4455;\n",
              "      --disabled-fill-color: #666;\n",
              "  }\n",
              "\n",
              "  .colab-df-quickchart {\n",
              "    background-color: var(--bg-color);\n",
              "    border: none;\n",
              "    border-radius: 50%;\n",
              "    cursor: pointer;\n",
              "    display: none;\n",
              "    fill: var(--fill-color);\n",
              "    height: 32px;\n",
              "    padding: 0;\n",
              "    width: 32px;\n",
              "  }\n",
              "\n",
              "  .colab-df-quickchart:hover {\n",
              "    background-color: var(--hover-bg-color);\n",
              "    box-shadow: 0 1px 2px rgba(60, 64, 67, 0.3), 0 1px 3px 1px rgba(60, 64, 67, 0.15);\n",
              "    fill: var(--button-hover-fill-color);\n",
              "  }\n",
              "\n",
              "  .colab-df-quickchart-complete:disabled,\n",
              "  .colab-df-quickchart-complete:disabled:hover {\n",
              "    background-color: var(--disabled-bg-color);\n",
              "    fill: var(--disabled-fill-color);\n",
              "    box-shadow: none;\n",
              "  }\n",
              "\n",
              "  .colab-df-spinner {\n",
              "    border: 2px solid var(--fill-color);\n",
              "    border-color: transparent;\n",
              "    border-bottom-color: var(--fill-color);\n",
              "    animation:\n",
              "      spin 1s steps(1) infinite;\n",
              "  }\n",
              "\n",
              "  @keyframes spin {\n",
              "    0% {\n",
              "      border-color: transparent;\n",
              "      border-bottom-color: var(--fill-color);\n",
              "      border-left-color: var(--fill-color);\n",
              "    }\n",
              "    20% {\n",
              "      border-color: transparent;\n",
              "      border-left-color: var(--fill-color);\n",
              "      border-top-color: var(--fill-color);\n",
              "    }\n",
              "    30% {\n",
              "      border-color: transparent;\n",
              "      border-left-color: var(--fill-color);\n",
              "      border-top-color: var(--fill-color);\n",
              "      border-right-color: var(--fill-color);\n",
              "    }\n",
              "    40% {\n",
              "      border-color: transparent;\n",
              "      border-right-color: var(--fill-color);\n",
              "      border-top-color: var(--fill-color);\n",
              "    }\n",
              "    60% {\n",
              "      border-color: transparent;\n",
              "      border-right-color: var(--fill-color);\n",
              "    }\n",
              "    80% {\n",
              "      border-color: transparent;\n",
              "      border-right-color: var(--fill-color);\n",
              "      border-bottom-color: var(--fill-color);\n",
              "    }\n",
              "    90% {\n",
              "      border-color: transparent;\n",
              "      border-bottom-color: var(--fill-color);\n",
              "    }\n",
              "  }\n",
              "</style>\n",
              "\n",
              "  <script>\n",
              "    async function quickchart(key) {\n",
              "      const quickchartButtonEl =\n",
              "        document.querySelector('#' + key + ' button');\n",
              "      quickchartButtonEl.disabled = true;  // To prevent multiple clicks.\n",
              "      quickchartButtonEl.classList.add('colab-df-spinner');\n",
              "      try {\n",
              "        const charts = await google.colab.kernel.invokeFunction(\n",
              "            'suggestCharts', [key], {});\n",
              "      } catch (error) {\n",
              "        console.error('Error during call to suggestCharts:', error);\n",
              "      }\n",
              "      quickchartButtonEl.classList.remove('colab-df-spinner');\n",
              "      quickchartButtonEl.classList.add('colab-df-quickchart-complete');\n",
              "    }\n",
              "    (() => {\n",
              "      let quickchartButtonEl =\n",
              "        document.querySelector('#df-edb478a4-28ec-4823-a505-11b2251c91f7 button');\n",
              "      quickchartButtonEl.style.display =\n",
              "        google.colab.kernel.accessAllowed ? 'block' : 'none';\n",
              "    })();\n",
              "  </script>\n",
              "</div>\n",
              "\n",
              "    </div>\n",
              "  </div>\n"
            ],
            "application/vnd.google.colaboratory.intrinsic+json": {
              "type": "dataframe",
              "repr_error": "0"
            }
          },
          "metadata": {},
          "execution_count": 245
        }
      ],
      "source": [
        "# duplicate rows\n",
        "data[data.duplicated(keep=False)]"
      ]
    },
    {
      "cell_type": "code",
      "execution_count": null,
      "metadata": {
        "id": "ziausvYkjB04",
        "colab": {
          "base_uri": "https://localhost:8080/",
          "height": 423
        },
        "outputId": "4e82e3ce-678e-4b1b-b672-27a4d8fcaaf5"
      },
      "outputs": [
        {
          "output_type": "execute_result",
          "data": {
            "text/plain": [
              "<Axes: ylabel='count'>"
            ]
          },
          "metadata": {},
          "execution_count": 246
        },
        {
          "output_type": "display_data",
          "data": {
            "text/plain": [
              "<Figure size 640x480 with 1 Axes>"
            ],
            "image/png": "[encoded data removed]"
          },
          "metadata": {}
        }
      ],
      "source": [
        "# pie chart for victim_sex\n",
        "data['victim_sex'].str.lower().value_counts(dropna=False).plot.pie()"
      ]
    },
    {
      "cell_type": "code",
      "source": [
        "# quasi constant values\n",
        "for val in data.columns.sort_values():\n",
        "    if (len(data[val].unique()) < 3):\n",
        "        print(data[val].value_counts())"
      ],
      "metadata": {
        "id": "NfpyHbXMFpt_",
        "colab": {
          "base_uri": "https://localhost:8080/"
        },
        "outputId": "7b08f8a8-5d75-4a00-8c64-f266b84ee4f1"
      },
      "execution_count": null,
      "outputs": [
        {
          "output_type": "stream",
          "name": "stdout",
          "text": [
            "Fatality Status\n",
            "Non-Fatal    12130\n",
            "Fatal         4117\n",
            "Name: count, dtype: int64\n"
          ]
        }
      ]
    },
    {
      "cell_type": "markdown",
      "source": [
        "# Categorization\n",
        "**victim_age**\n",
        "\n",
        "**victim_sex**\n",
        "\n",
        "**victim_race**"
      ],
      "metadata": {
        "id": "1J9sRZaNhISC"
      }
    },
    {
      "cell_type": "code",
      "source": [
        "# A column of name 'age-groupings' is created in DataFrame\n",
        "# Categorizing Age into 4 Categories\n",
        "# Baby/Toddler: (0,3], 0 is excluded & 3 is included\n",
        "# Child: (3,17], 3 is excluded & 17 is included\n",
        "# Adult: (17,63], 17 is excluded & 63 is included\n",
        "# Elderly: (63,99], 63 is excluded & 99 is included\n",
        "data['victim_age_groupings'] = pd.cut(x=data['victim_age'], bins=[0, 3, 17, 63, 99],\n",
        "                     labels=['Baby/Toddler', 'Child', 'Adult',\n",
        "                             'Elderly'])\n",
        "\n",
        "# Printing DataFrame after sorting Continuous to\n",
        "\n",
        "print(data)\n",
        "\n",
        "# Check the number of values in each bin\n",
        "print(\"Categories: \")\n",
        "print(data['victim_age_groupings'].value_counts())\n"
      ],
      "metadata": {
        "id": "du82NhDqe3tx",
        "colab": {
          "base_uri": "https://localhost:8080/"
        },
        "outputId": "fa07db37-c64c-4028-df7f-b4b533a74826"
      },
      "execution_count": null,
      "outputs": [
        {
          "output_type": "stream",
          "name": "stdout",
          "text": [
            "            agency_name occurred_date occurred_time    offense_category  \\\n",
            "0          BALTIMORE-PD     7/26/2017       UNKNOWN  NON FATAL SHOOTING   \n",
            "1          BALTIMORE-PD     7/26/2017       UNKNOWN  NON FATAL SHOOTING   \n",
            "2          BALTIMORE-PD     7/25/2017       UNKNOWN  NON FATAL SHOOTING   \n",
            "3          BALTIMORE-PD     7/25/2017       UNKNOWN  NON FATAL SHOOTING   \n",
            "4          BALTIMORE-PD     7/24/2017       UNKNOWN  NON FATAL SHOOTING   \n",
            "...                 ...           ...           ...                 ...   \n",
            "16242  SAN-FRANCISCO-PD     9/21/2014       UNKNOWN  NON-FATAL-SHOOTING   \n",
            "16243  SAN-FRANCISCO-PD     9/25/2014       UNKNOWN  NON-FATAL-SHOOTING   \n",
            "16244  SAN-FRANCISCO-PD     10/1/2014       UNKNOWN  NON-FATAL-SHOOTING   \n",
            "16245  SAN-FRANCISCO-PD     10/1/2014       UNKNOWN  NON-FATAL-SHOOTING   \n",
            "16246  SAN-FRANCISCO-PD    10/14/2014       UNKNOWN  NON-FATAL-SHOOTING   \n",
            "\n",
            "        weapon       offense_group gang_activity_ind  victim_age victim_race  \\\n",
            "0      FIREARM  Non-Fatal Shooting       UNSPECIFIED          22       BLACK   \n",
            "1      FIREARM  Non-Fatal Shooting       UNSPECIFIED          53       BLACK   \n",
            "2      FIREARM  Non-Fatal Shooting       UNSPECIFIED          19       BLACK   \n",
            "3      FIREARM  Non-Fatal Shooting       UNSPECIFIED          29       BLACK   \n",
            "4      FIREARM  Non-Fatal Shooting       UNSPECIFIED          22       BLACK   \n",
            "...        ...                 ...               ...         ...         ...   \n",
            "16242  FIREARM  Non-Fatal Shooting       UNSPECIFIED          47       BLACK   \n",
            "16243  FIREARM  Non-Fatal Shooting       UNSPECIFIED          35       WHITE   \n",
            "16244  FIREARM  Non-Fatal Shooting       UNSPECIFIED          36       BLACK   \n",
            "16245  FIREARM  Non-Fatal Shooting       UNSPECIFIED          51       BLACK   \n",
            "16246  FIREARM  Non-Fatal Shooting       UNSPECIFIED          54       WHITE   \n",
            "\n",
            "      victim_race_condensed victim_sex case_status arrest_ind  \\\n",
            "0            BLACK/HISPANIC       MALE        OPEN    UNKNOWN   \n",
            "1            BLACK/HISPANIC     FEMALE        OPEN    UNKNOWN   \n",
            "2            BLACK/HISPANIC       MALE        OPEN    UNKNOWN   \n",
            "3            BLACK/HISPANIC       MALE        OPEN    UNKNOWN   \n",
            "4            BLACK/HISPANIC       MALE        OPEN    UNKNOWN   \n",
            "...                     ...        ...         ...        ...   \n",
            "16242        BLACK/HISPANIC       MALE        OPEN          N   \n",
            "16243                 WHITE       MALE        OPEN          N   \n",
            "16244        BLACK/HISPANIC       MALE        OPEN          N   \n",
            "16245        BLACK/HISPANIC       MALE        OPEN          N   \n",
            "16246                 WHITE       MALE        OPEN          N   \n",
            "\n",
            "      clearance_status               clearance_group Fatality Status  \\\n",
            "0                 OPEN  Open & No Arrest-Unspecified       Non-Fatal   \n",
            "1                 OPEN  Open & No Arrest-Unspecified       Non-Fatal   \n",
            "2                 OPEN  Open & No Arrest-Unspecified       Non-Fatal   \n",
            "3                 OPEN  Open & No Arrest-Unspecified       Non-Fatal   \n",
            "4                 OPEN  Open & No Arrest-Unspecified       Non-Fatal   \n",
            "...                ...                           ...             ...   \n",
            "16242             OPEN  Open & No Arrest-Unspecified       Non-Fatal   \n",
            "16243             OPEN  Open & No Arrest-Unspecified       Non-Fatal   \n",
            "16244             OPEN  Open & No Arrest-Unspecified       Non-Fatal   \n",
            "16245             OPEN  Open & No Arrest-Unspecified       Non-Fatal   \n",
            "16246             OPEN  Open & No Arrest-Unspecified       Non-Fatal   \n",
            "\n",
            "      victim_age_groupings  \n",
            "0                    Adult  \n",
            "1                    Adult  \n",
            "2                    Adult  \n",
            "3                    Adult  \n",
            "4                    Adult  \n",
            "...                    ...  \n",
            "16242                Adult  \n",
            "16243                Adult  \n",
            "16244                Adult  \n",
            "16245                Adult  \n",
            "16246                Adult  \n",
            "\n",
            "[16247 rows x 17 columns]\n",
            "Categories: \n",
            "victim_age_groupings\n",
            "Adult           14827\n",
            "Child            1287\n",
            "Elderly           123\n",
            "Baby/Toddler        8\n",
            "Name: count, dtype: int64\n"
          ]
        }
      ]
    },
    {
      "cell_type": "code",
      "source": [
        "data['victim_sex'] = data['victim_sex']\\\n",
        "  .apply(lambda n_group: 'UNKNOWN' if n_group in ['X','U','UNCLEAR','OTH'] else n_group)\n",
        "data['victim_sex'].value_counts()"
      ],
      "metadata": {
        "colab": {
          "base_uri": "https://localhost:8080/"
        },
        "id": "YUWzI6S-JjkJ",
        "outputId": "aae94328-9cf6-40e2-8ea3-93991260cabd"
      },
      "execution_count": null,
      "outputs": [
        {
          "output_type": "execute_result",
          "data": {
            "text/plain": [
              "victim_sex\n",
              "MALE             14524\n",
              "FEMALE            1672\n",
              "UNKNOWN             50\n",
              "TRANSGENDERED        1\n",
              "Name: count, dtype: int64"
            ]
          },
          "metadata": {},
          "execution_count": 249
        }
      ]
    },
    {
      "cell_type": "code",
      "source": [
        "data['victim_race'] = data['victim_race']\\\n",
        "  .apply(lambda n_group: 'OTHER' if n_group in ['UNKNOWN','I','UNCLEAR','OTH'] else n_group)\n"
      ],
      "metadata": {
        "id": "4qjIqCSmKvtV"
      },
      "execution_count": null,
      "outputs": []
    },
    {
      "cell_type": "code",
      "source": [
        "data['victim_race'] = data['victim_race']\\\n",
        "  .apply(lambda n_group: 'ASIAN OR PACIFIC ISLANDER' if n_group == 'ASIAN' else n_group)\n"
      ],
      "metadata": {
        "id": "10KwDLfarelj"
      },
      "execution_count": null,
      "outputs": []
    },
    {
      "cell_type": "code",
      "source": [
        "data['victim_race'] = data['victim_race']\\\n",
        "  .apply(lambda n_group: 'BLACK' if n_group == 'BLACK NON-HISPANIC' else n_group)\n"
      ],
      "metadata": {
        "id": "V1G6ccqesgvM"
      },
      "execution_count": null,
      "outputs": []
    },
    {
      "cell_type": "code",
      "source": [
        "data['victim_race'] = data['victim_race']\\\n",
        "  .apply(lambda n_group: 'WHITE' if n_group == 'WHITE NON-HISPANIC' else n_group)\n"
      ],
      "metadata": {
        "id": "VW7dg_02sxj4"
      },
      "execution_count": null,
      "outputs": []
    },
    {
      "cell_type": "code",
      "source": [
        "data['victim_race'] = data['victim_race']\\\n",
        "  .apply(lambda n_group: 'HISPANIC' if n_group == 'WHITE HISPANIC' else n_group)\n",
        "data['victim_race'].value_counts()"
      ],
      "metadata": {
        "colab": {
          "base_uri": "https://localhost:8080/"
        },
        "id": "DHP54h4xyAb9",
        "outputId": "fbfb7a46-0c18-45cd-e919-bc0fb11a36be"
      },
      "execution_count": null,
      "outputs": [
        {
          "output_type": "execute_result",
          "data": {
            "text/plain": [
              "victim_race\n",
              "BLACK                        10156\n",
              "HISPANIC                      4969\n",
              "WHITE                          629\n",
              "OTHER                          330\n",
              "ASIAN OR PACIFIC ISLANDER      153\n",
              "BLACK HISPANIC                  10\n",
              "Name: count, dtype: int64"
            ]
          },
          "metadata": {},
          "execution_count": 254
        }
      ]
    },
    {
      "cell_type": "code",
      "source": [
        "data.victim_age_groupings.unique()"
      ],
      "metadata": {
        "colab": {
          "base_uri": "https://localhost:8080/"
        },
        "id": "g95wvNamhkF8",
        "outputId": "c29ab039-e93d-43ed-b287-1ca827032ea4"
      },
      "execution_count": null,
      "outputs": [
        {
          "output_type": "execute_result",
          "data": {
            "text/plain": [
              "['Adult', 'Child', 'Elderly', 'Baby/Toddler', NaN]\n",
              "Categories (4, object): ['Baby/Toddler' < 'Child' < 'Adult' < 'Elderly']"
            ]
          },
          "metadata": {},
          "execution_count": 255
        }
      ]
    },
    {
      "cell_type": "code",
      "source": [
        "data['victim_age_groupings'].fillna(data['victim_age_groupings'].mode()[0], inplace=True)"
      ],
      "metadata": {
        "id": "ehqTKEJx3Ag1"
      },
      "execution_count": null,
      "outputs": []
    },
    {
      "cell_type": "code",
      "source": [
        "print(data.isnull().sum())"
      ],
      "metadata": {
        "colab": {
          "base_uri": "https://localhost:8080/"
        },
        "id": "6gR3n_U82Ho7",
        "outputId": "221bc315-09e4-4004-9428-18400ce4b80b"
      },
      "execution_count": null,
      "outputs": [
        {
          "output_type": "stream",
          "name": "stdout",
          "text": [
            "agency_name              0\n",
            "occurred_date            0\n",
            "occurred_time            0\n",
            "offense_category         0\n",
            "weapon                   0\n",
            "offense_group            0\n",
            "gang_activity_ind        0\n",
            "victim_age               0\n",
            "victim_race              0\n",
            "victim_race_condensed    0\n",
            "victim_sex               0\n",
            "case_status              0\n",
            "arrest_ind               0\n",
            "clearance_status         0\n",
            "clearance_group          0\n",
            "Fatality Status          0\n",
            "victim_age_groupings     0\n",
            "dtype: int64\n"
          ]
        }
      ]
    },
    {
      "cell_type": "markdown",
      "source": [
        "# One-Hot Encoding"
      ],
      "metadata": {
        "id": "y9WFfzUP--fE"
      }
    },
    {
      "cell_type": "code",
      "source": [
        "\n",
        "#one hot encoding of categorical variables\n",
        "from sklearn.preprocessing import OneHotEncoder\n",
        "from sklearn.compose import make_column_transformer\n",
        "\n",
        "transformer = make_column_transformer(\n",
        "    (OneHotEncoder(), ['offense_group', 'Fatality Status','agency_name','victim_race','victim_sex','victim_age_groupings']),\n",
        "    remainder='passthrough')\n",
        "\n",
        "transformed = transformer.fit_transform(data)\n",
        "transformed_df = pd.DataFrame(transformed, columns=transformer.get_feature_names_out())\n",
        "print(transformed_df.head())\n"
      ],
      "metadata": {
        "id": "BjYgqWiP112G",
        "colab": {
          "base_uri": "https://localhost:8080/"
        },
        "outputId": "248386f0-331c-48a5-f253-e08694926e5e"
      },
      "execution_count": null,
      "outputs": [
        {
          "output_type": "stream",
          "name": "stdout",
          "text": [
            "  onehotencoder__offense_group_Agg Assault - Gun  \\\n",
            "0                                            0.0   \n",
            "1                                            0.0   \n",
            "2                                            0.0   \n",
            "3                                            0.0   \n",
            "4                                            0.0   \n",
            "\n",
            "  onehotencoder__offense_group_Homicide - Gun  \\\n",
            "0                                         0.0   \n",
            "1                                         0.0   \n",
            "2                                         0.0   \n",
            "3                                         0.0   \n",
            "4                                         0.0   \n",
            "\n",
            "  onehotencoder__offense_group_Non-Fatal Shooting  \\\n",
            "0                                             1.0   \n",
            "1                                             1.0   \n",
            "2                                             1.0   \n",
            "3                                             1.0   \n",
            "4                                             1.0   \n",
            "\n",
            "  onehotencoder__Fatality Status_Fatal  \\\n",
            "0                                  0.0   \n",
            "1                                  0.0   \n",
            "2                                  0.0   \n",
            "3                                  0.0   \n",
            "4                                  0.0   \n",
            "\n",
            "  onehotencoder__Fatality Status_Non-Fatal  \\\n",
            "0                                      1.0   \n",
            "1                                      1.0   \n",
            "2                                      1.0   \n",
            "3                                      1.0   \n",
            "4                                      1.0   \n",
            "\n",
            "  onehotencoder__agency_name_BALTIMORE-PD  \\\n",
            "0                                     1.0   \n",
            "1                                     1.0   \n",
            "2                                     1.0   \n",
            "3                                     1.0   \n",
            "4                                     1.0   \n",
            "\n",
            "  onehotencoder__agency_name_BOSTON-PD  \\\n",
            "0                                  0.0   \n",
            "1                                  0.0   \n",
            "2                                  0.0   \n",
            "3                                  0.0   \n",
            "4                                  0.0   \n",
            "\n",
            "  onehotencoder__agency_name_LOS-ANGELES-PD  \\\n",
            "0                                       0.0   \n",
            "1                                       0.0   \n",
            "2                                       0.0   \n",
            "3                                       0.0   \n",
            "4                                       0.0   \n",
            "\n",
            "  onehotencoder__agency_name_SAN-FRANCISCO-PD  \\\n",
            "0                                         0.0   \n",
            "1                                         0.0   \n",
            "2                                         0.0   \n",
            "3                                         0.0   \n",
            "4                                         0.0   \n",
            "\n",
            "  onehotencoder__victim_race_ASIAN OR PACIFIC ISLANDER  ...  \\\n",
            "0                                                0.0    ...   \n",
            "1                                                0.0    ...   \n",
            "2                                                0.0    ...   \n",
            "3                                                0.0    ...   \n",
            "4                                                0.0    ...   \n",
            "\n",
            "  remainder__occurred_time remainder__offense_category remainder__weapon  \\\n",
            "0                  UNKNOWN          NON FATAL SHOOTING           FIREARM   \n",
            "1                  UNKNOWN          NON FATAL SHOOTING           FIREARM   \n",
            "2                  UNKNOWN          NON FATAL SHOOTING           FIREARM   \n",
            "3                  UNKNOWN          NON FATAL SHOOTING           FIREARM   \n",
            "4                  UNKNOWN          NON FATAL SHOOTING           FIREARM   \n",
            "\n",
            "  remainder__gang_activity_ind remainder__victim_age  \\\n",
            "0                  UNSPECIFIED                    22   \n",
            "1                  UNSPECIFIED                    53   \n",
            "2                  UNSPECIFIED                    19   \n",
            "3                  UNSPECIFIED                    29   \n",
            "4                  UNSPECIFIED                    22   \n",
            "\n",
            "  remainder__victim_race_condensed remainder__case_status  \\\n",
            "0                   BLACK/HISPANIC                   OPEN   \n",
            "1                   BLACK/HISPANIC                   OPEN   \n",
            "2                   BLACK/HISPANIC                   OPEN   \n",
            "3                   BLACK/HISPANIC                   OPEN   \n",
            "4                   BLACK/HISPANIC                   OPEN   \n",
            "\n",
            "  remainder__arrest_ind remainder__clearance_status  \\\n",
            "0               UNKNOWN                        OPEN   \n",
            "1               UNKNOWN                        OPEN   \n",
            "2               UNKNOWN                        OPEN   \n",
            "3               UNKNOWN                        OPEN   \n",
            "4               UNKNOWN                        OPEN   \n",
            "\n",
            "     remainder__clearance_group  \n",
            "0  Open & No Arrest-Unspecified  \n",
            "1  Open & No Arrest-Unspecified  \n",
            "2  Open & No Arrest-Unspecified  \n",
            "3  Open & No Arrest-Unspecified  \n",
            "4  Open & No Arrest-Unspecified  \n",
            "\n",
            "[5 rows x 34 columns]\n"
          ]
        }
      ]
    },
    {
      "cell_type": "code",
      "source": [
        "transformed_df.keys()"
      ],
      "metadata": {
        "id": "WvMjKBXQfGlT",
        "colab": {
          "base_uri": "https://localhost:8080/"
        },
        "outputId": "b0bbb215-169d-42fd-bdc4-ff0e9862c91d"
      },
      "execution_count": null,
      "outputs": [
        {
          "output_type": "execute_result",
          "data": {
            "text/plain": [
              "Index(['onehotencoder__offense_group_Agg Assault - Gun',\n",
              "       'onehotencoder__offense_group_Homicide - Gun',\n",
              "       'onehotencoder__offense_group_Non-Fatal Shooting',\n",
              "       'onehotencoder__Fatality Status_Fatal',\n",
              "       'onehotencoder__Fatality Status_Non-Fatal',\n",
              "       'onehotencoder__agency_name_BALTIMORE-PD',\n",
              "       'onehotencoder__agency_name_BOSTON-PD',\n",
              "       'onehotencoder__agency_name_LOS-ANGELES-PD',\n",
              "       'onehotencoder__agency_name_SAN-FRANCISCO-PD',\n",
              "       'onehotencoder__victim_race_ASIAN OR PACIFIC ISLANDER',\n",
              "       'onehotencoder__victim_race_BLACK',\n",
              "       'onehotencoder__victim_race_BLACK HISPANIC',\n",
              "       'onehotencoder__victim_race_HISPANIC',\n",
              "       'onehotencoder__victim_race_OTHER', 'onehotencoder__victim_race_WHITE',\n",
              "       'onehotencoder__victim_sex_FEMALE', 'onehotencoder__victim_sex_MALE',\n",
              "       'onehotencoder__victim_sex_TRANSGENDERED',\n",
              "       'onehotencoder__victim_sex_UNKNOWN',\n",
              "       'onehotencoder__victim_age_groupings_Adult',\n",
              "       'onehotencoder__victim_age_groupings_Baby/Toddler',\n",
              "       'onehotencoder__victim_age_groupings_Child',\n",
              "       'onehotencoder__victim_age_groupings_Elderly',\n",
              "       'remainder__occurred_date', 'remainder__occurred_time',\n",
              "       'remainder__offense_category', 'remainder__weapon',\n",
              "       'remainder__gang_activity_ind', 'remainder__victim_age',\n",
              "       'remainder__victim_race_condensed', 'remainder__case_status',\n",
              "       'remainder__arrest_ind', 'remainder__clearance_status',\n",
              "       'remainder__clearance_group'],\n",
              "      dtype='object')"
            ]
          },
          "metadata": {},
          "execution_count": 259
        }
      ]
    },
    {
      "cell_type": "code",
      "source": [
        "#violin plot\n",
        "import seaborn\n",
        "\n",
        "seaborn.set(style = 'whitegrid')\n",
        "\n",
        "seaborn.violinplot(x ='Fatality Status', data = data)"
      ],
      "metadata": {
        "id": "uXTI5pne0etY",
        "colab": {
          "base_uri": "https://localhost:8080/",
          "height": 475
        },
        "outputId": "97931629-b639-4a3f-eff9-1874eeafa020"
      },
      "execution_count": null,
      "outputs": [
        {
          "output_type": "execute_result",
          "data": {
            "text/plain": [
              "<Axes: xlabel='Fatality Status'>"
            ]
          },
          "metadata": {},
          "execution_count": 260
        },
        {
          "output_type": "display_data",
          "data": {
            "text/plain": [
              "<Figure size 640x480 with 1 Axes>"
            ],
            "image/png": "[encoded data removed]"
          },
          "metadata": {}
        }
      ]
    },
    {
      "cell_type": "code",
      "source": [
        "# Import libraries\n",
        "import matplotlib.pyplot as plt\n",
        "import numpy as np\n",
        "# Creating plot\n",
        "data.boxplot()\n",
        "\n",
        "# show plot\n",
        "plt.show()"
      ],
      "metadata": {
        "id": "VbW2_ABm1Dfm",
        "colab": {
          "base_uri": "https://localhost:8080/",
          "height": 435
        },
        "outputId": "527c7123-3269-4b50-b488-3435424674f7"
      },
      "execution_count": null,
      "outputs": [
        {
          "output_type": "display_data",
          "data": {
            "text/plain": [
              "<Figure size 640x480 with 1 Axes>"
            ],
            "image/png": "[encoded data removed]"
          },
          "metadata": {}
        }
      ]
    },
    {
      "cell_type": "code",
      "source": [
        "# pie chart\n",
        "data['Fatality Status'].str.lower().value_counts(dropna=False).plot.pie()"
      ],
      "metadata": {
        "id": "wn8hZLu-No4b",
        "colab": {
          "base_uri": "https://localhost:8080/",
          "height": 423
        },
        "outputId": "51226372-5036-49c1-d011-0704810401ba"
      },
      "execution_count": null,
      "outputs": [
        {
          "output_type": "execute_result",
          "data": {
            "text/plain": [
              "<Axes: ylabel='count'>"
            ]
          },
          "metadata": {},
          "execution_count": 262
        },
        {
          "output_type": "display_data",
          "data": {
            "text/plain": [
              "<Figure size 640x480 with 1 Axes>"
            ],
            "image/png": "[encoded data removed]"
          },
          "metadata": {}
        }
      ]
    },
    {
      "cell_type": "code",
      "source": [
        "# pie chart\n",
        "data['victim_age_groupings'].str.lower().value_counts(dropna=False).plot.pie()"
      ],
      "metadata": {
        "id": "MjiG0UwmfNA-",
        "colab": {
          "base_uri": "https://localhost:8080/",
          "height": 423
        },
        "outputId": "c08ea708-6bec-4632-f7b4-c5d936dad6b9"
      },
      "execution_count": null,
      "outputs": [
        {
          "output_type": "execute_result",
          "data": {
            "text/plain": [
              "<Axes: ylabel='count'>"
            ]
          },
          "metadata": {},
          "execution_count": 263
        },
        {
          "output_type": "display_data",
          "data": {
            "text/plain": [
              "<Figure size 640x480 with 1 Axes>"
            ],
            "image/png": "[encoded data removed]"
          },
          "metadata": {}
        }
      ]
    },
    {
      "cell_type": "markdown",
      "source": [
        "# Train Test Split"
      ],
      "metadata": {
        "id": "5U1aQSiW_u0P"
      }
    },
    {
      "cell_type": "code",
      "source": [
        "# train test split\n",
        "from sklearn.model_selection import train_test_split\n",
        "\n",
        "X_train, X_test, y_train, y_test = train_test_split(data.drop(['Fatality Status'], axis=1), data['Fatality Status'], test_size=.2, random_state=42)\n",
        "\n",
        "print(X_train.shape)\n",
        "print(X_test.shape)"
      ],
      "metadata": {
        "id": "114U3FgO_tpg",
        "colab": {
          "base_uri": "https://localhost:8080/"
        },
        "outputId": "7ba2562f-e192-4c42-b88f-f0046752682f"
      },
      "execution_count": null,
      "outputs": [
        {
          "output_type": "stream",
          "name": "stdout",
          "text": [
            "(12997, 16)\n",
            "(3250, 16)\n"
          ]
        }
      ]
    }
  ],
  "metadata": {
    "colab": {
      "provenance": [],
      "include_colab_link": true
    },
    "kernelspec": {
      "display_name": "Python 3",
      "name": "python3"
    },
    "language_info": {
      "name": "python"
    }
  },
  "nbformat": 4,
  "nbformat_minor": 0
}